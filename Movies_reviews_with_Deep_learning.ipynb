{
  "nbformat": 4,
  "nbformat_minor": 0,
  "metadata": {
    "colab": {
      "name": "Movies reviews with Deep learning.ipynb",
      "version": "0.3.2",
      "provenance": []
    },
    "kernelspec": {
      "name": "python3",
      "display_name": "Python 3"
    }
  },
  "cells": [
    {
      "cell_type": "markdown",
      "metadata": {
        "id": "view-in-github",
        "colab_type": "text"
      },
      "source": [
        "[View in Colaboratory](https://colab.research.google.com/github/constantinembufung/Movie-Reviews-with-Deep-Learning-Tensorflow/blob/master/Movies_reviews_with_Deep_learning.ipynb)"
      ]
    },
    {
      "metadata": {
        "id": "9hiAs9kldyu2",
        "colab_type": "text"
      },
      "cell_type": "markdown",
      "source": [
        "# Movie reviews Deep learning analysis with tensorflow"
      ]
    },
    {
      "metadata": {
        "id": "mZdSnsYFQ_1K",
        "colab_type": "code",
        "colab": {
          "base_uri": "https://localhost:8080/",
          "height": 68
        },
        "outputId": "d7431a0d-7c0d-41fb-dcf6-e0cca0b89896"
      },
      "cell_type": "code",
      "source": [
        "from keras.datasets import imdb\n",
        "\n",
        "(train_data, train_labels), (test_data, test_labels) = imdb.load_data(num_words=10000)"
      ],
      "execution_count": 1,
      "outputs": [
        {
          "output_type": "stream",
          "text": [
            "Using TensorFlow backend.\n"
          ],
          "name": "stderr"
        },
        {
          "output_type": "stream",
          "text": [
            "Downloading data from https://s3.amazonaws.com/text-datasets/imdb.npz\n",
            "17465344/17464789 [==============================] - 4s 0us/step\n"
          ],
          "name": "stdout"
        }
      ]
    },
    {
      "metadata": {
        "id": "-RaqGNOGRZe7",
        "colab_type": "text"
      },
      "cell_type": "markdown",
      "source": [
        "Train_data, test_data are lists of reviews whereas test_labels and train_labels are list of 0s and 1s where O stands for negative, and 1 stands for positive"
      ]
    },
    {
      "metadata": {
        "id": "NTuQiTq7RUMa",
        "colab_type": "code",
        "colab": {
          "base_uri": "https://localhost:8080/",
          "height": 54
        },
        "outputId": "4b7ffc63-91d8-456c-f3c1-55f121270091"
      },
      "cell_type": "code",
      "source": [
        "print(train_data[0])"
      ],
      "execution_count": 3,
      "outputs": [
        {
          "output_type": "stream",
          "text": [
            "[1, 14, 22, 16, 43, 530, 973, 1622, 1385, 65, 458, 4468, 66, 3941, 4, 173, 36, 256, 5, 25, 100, 43, 838, 112, 50, 670, 2, 9, 35, 480, 284, 5, 150, 4, 172, 112, 167, 2, 336, 385, 39, 4, 172, 4536, 1111, 17, 546, 38, 13, 447, 4, 192, 50, 16, 6, 147, 2025, 19, 14, 22, 4, 1920, 4613, 469, 4, 22, 71, 87, 12, 16, 43, 530, 38, 76, 15, 13, 1247, 4, 22, 17, 515, 17, 12, 16, 626, 18, 2, 5, 62, 386, 12, 8, 316, 8, 106, 5, 4, 2223, 5244, 16, 480, 66, 3785, 33, 4, 130, 12, 16, 38, 619, 5, 25, 124, 51, 36, 135, 48, 25, 1415, 33, 6, 22, 12, 215, 28, 77, 52, 5, 14, 407, 16, 82, 2, 8, 4, 107, 117, 5952, 15, 256, 4, 2, 7, 3766, 5, 723, 36, 71, 43, 530, 476, 26, 400, 317, 46, 7, 4, 2, 1029, 13, 104, 88, 4, 381, 15, 297, 98, 32, 2071, 56, 26, 141, 6, 194, 7486, 18, 4, 226, 22, 21, 134, 476, 26, 480, 5, 144, 30, 5535, 18, 51, 36, 28, 224, 92, 25, 104, 4, 226, 65, 16, 38, 1334, 88, 12, 16, 283, 5, 16, 4472, 113, 103, 32, 15, 16, 5345, 19, 178, 32]\n"
          ],
          "name": "stdout"
        }
      ]
    },
    {
      "metadata": {
        "id": "0Ahp0B8fRvXX",
        "colab_type": "code",
        "colab": {
          "base_uri": "https://localhost:8080/",
          "height": 34
        },
        "outputId": "d39ebb9c-6a63-43a2-bb8e-167c07c0f064"
      },
      "cell_type": "code",
      "source": [
        "print(train_labels[1])"
      ],
      "execution_count": 6,
      "outputs": [
        {
          "output_type": "stream",
          "text": [
            "0\n"
          ],
          "name": "stdout"
        }
      ]
    },
    {
      "metadata": {
        "id": "C6PlJJFhR-F-",
        "colab_type": "code",
        "colab": {}
      },
      "cell_type": "code",
      "source": [
        "word_index = imdb.get_word_index()\n",
        "reverse_word_index = dict([(value, key) for (key, value)  in word_index.items()])\n",
        "decoded_review = ' '.join([reverse_word_index.get(i - 3, '?') for i in train_data[0]])\n"
      ],
      "execution_count": 0,
      "outputs": []
    },
    {
      "metadata": {
        "id": "pp6iTm1MSuO5",
        "colab_type": "text"
      },
      "cell_type": "markdown",
      "source": [
        "# Preparing the data\n",
        "our data is a list so we can't feed th elist of . integers into a neural network so we will use one-hot to encode the data into a binary matrix\n",
        "Encoding the integer sequences into a binqry matrix"
      ]
    },
    {
      "metadata": {
        "id": "QY7FqEK6TNLz",
        "colab_type": "code",
        "colab": {
          "base_uri": "https://localhost:8080/",
          "height": 34
        },
        "outputId": "307d4fce-e265-4c69-edba-4cbc42c745a6"
      },
      "cell_type": "code",
      "source": [
        "import numpy as np\n",
        "def vectorize_sequences(sequences, dimension=10000):\n",
        "  results = np.zeros((len(sequences), dimension))\n",
        "  for i, sequence in enumerate(sequences):\n",
        "    results[i, sequence] = 1.\n",
        "  return results\n",
        "\n",
        "x_train = vectorize_sequences(train_data)\n",
        "x_test = vectorize_sequences(test_data)\n",
        "\n",
        "print(x_train[0])"
      ],
      "execution_count": 13,
      "outputs": [
        {
          "output_type": "stream",
          "text": [
            "[0. 1. 1. ... 0. 0. 0.]\n"
          ],
          "name": "stdout"
        }
      ]
    },
    {
      "metadata": {
        "id": "Pggdmd72WETM",
        "colab_type": "code",
        "colab": {
          "base_uri": "https://localhost:8080/",
          "height": 34
        },
        "outputId": "90cd5962-77b9-47f9-ac98-8f594f821498"
      },
      "cell_type": "code",
      "source": [
        "#We should also vectorize your labels\n",
        "y_train = np.asarray(train_labels).astype('float32')\n",
        "y_test  = np.asarray(test_labels).astype('float32')\n",
        "\n",
        "print(y_train[0])"
      ],
      "execution_count": 15,
      "outputs": [
        {
          "output_type": "stream",
          "text": [
            "1.0\n"
          ],
          "name": "stdout"
        }
      ]
    },
    {
      "metadata": {
        "id": "qRz48cwDWdxa",
        "colab_type": "text"
      },
      "cell_type": "markdown",
      "source": [
        "Now the data is ready to be fed into a neural network"
      ]
    },
    {
      "metadata": {
        "id": "UUIDdWWvZ5UZ",
        "colab_type": "code",
        "colab": {}
      },
      "cell_type": "code",
      "source": [
        "#validating your model approad\n",
        "x_val = x_train[:10000]\n",
        "partial_x_train = x_train[10000:]\n",
        "\n",
        "y_val = y_train[:10000]\n",
        "partial_y_train = y_train[10000:]"
      ],
      "execution_count": 0,
      "outputs": []
    },
    {
      "metadata": {
        "id": "uZBCU1J_WlKn",
        "colab_type": "text"
      },
      "cell_type": "markdown",
      "source": [
        "# Building your neural network model\n",
        "we are going to use relu activations functions and rmsprop as our loss function "
      ]
    },
    {
      "metadata": {
        "id": "AgECf_TjWkRf",
        "colab_type": "code",
        "colab": {}
      },
      "cell_type": "code",
      "source": [
        "from keras import models\n",
        "from keras import layers\n",
        "\n",
        "model = models.Sequential()\n",
        "model.add(layers.Dense(16, activation='relu', input_shape=(10000, ))) #first layer\n",
        "model.add(layers.Dense(16, activation='relu')) # second deep hidden layer\n",
        "model.add(layers.Dense(1, activation='sigmoid')) \n"
      ],
      "execution_count": 0,
      "outputs": []
    },
    {
      "metadata": {
        "id": "YlztvE4Da_RU",
        "colab_type": "text"
      },
      "cell_type": "markdown",
      "source": [
        "# Training your model"
      ]
    },
    {
      "metadata": {
        "id": "-gSvysjna8tW",
        "colab_type": "code",
        "colab": {
          "base_uri": "https://localhost:8080/",
          "height": 734
        },
        "outputId": "e36d322f-5558-4480-92a2-adc7692a1755"
      },
      "cell_type": "code",
      "source": [
        "model.compile(optimizer='rmsprop',\n",
        "              loss = 'binary_crossentropy',\n",
        "              metrics=['acc']\n",
        "            )\n",
        "\n",
        "history = model.fit(partial_x_train,\n",
        "                    partial_y_train,\n",
        "                    epochs = 20,\n",
        "                    batch_size = 512,\n",
        "                    validation_data = (x_val, y_val)\n",
        "                   )"
      ],
      "execution_count": 22,
      "outputs": [
        {
          "output_type": "stream",
          "text": [
            "Train on 15000 samples, validate on 10000 samples\n",
            "Epoch 1/20\n",
            "15000/15000 [==============================] - 3s 169us/step - loss: 0.5367 - acc: 0.7767 - val_loss: 0.3999 - val_acc: 0.8676\n",
            "Epoch 2/20\n",
            "15000/15000 [==============================] - 2s 114us/step - loss: 0.3210 - acc: 0.8989 - val_loss: 0.3266 - val_acc: 0.8729\n",
            "Epoch 3/20\n",
            "15000/15000 [==============================] - 2s 111us/step - loss: 0.2352 - acc: 0.9239 - val_loss: 0.2850 - val_acc: 0.8867\n",
            "Epoch 4/20\n",
            "15000/15000 [==============================] - 2s 112us/step - loss: 0.1846 - acc: 0.9400 - val_loss: 0.2734 - val_acc: 0.8915\n",
            "Epoch 5/20\n",
            "15000/15000 [==============================] - 2s 113us/step - loss: 0.1530 - acc: 0.9509 - val_loss: 0.2992 - val_acc: 0.8815\n",
            "Epoch 6/20\n",
            "15000/15000 [==============================] - 2s 113us/step - loss: 0.1241 - acc: 0.9615 - val_loss: 0.2866 - val_acc: 0.8869\n",
            "Epoch 7/20\n",
            "15000/15000 [==============================] - 2s 112us/step - loss: 0.1074 - acc: 0.9668 - val_loss: 0.3031 - val_acc: 0.8836\n",
            "Epoch 8/20\n",
            "15000/15000 [==============================] - 2s 112us/step - loss: 0.0875 - acc: 0.9743 - val_loss: 0.3211 - val_acc: 0.8813\n",
            "Epoch 9/20\n",
            "12800/15000 [========================>.....] - ETA: 0s - loss: 0.0703 - acc: 0.9818"
          ],
          "name": "stdout"
        },
        {
          "output_type": "stream",
          "text": [
            "15000/15000 [==============================] - 2s 111us/step - loss: 0.0711 - acc: 0.9815 - val_loss: 0.3390 - val_acc: 0.8809\n",
            "Epoch 10/20\n",
            "15000/15000 [==============================] - 2s 113us/step - loss: 0.0611 - acc: 0.9847 - val_loss: 0.3817 - val_acc: 0.8758\n",
            "Epoch 11/20\n",
            "15000/15000 [==============================] - 2s 112us/step - loss: 0.0483 - acc: 0.9896 - val_loss: 0.3957 - val_acc: 0.8744\n",
            "Epoch 12/20\n",
            "15000/15000 [==============================] - 2s 111us/step - loss: 0.0397 - acc: 0.9919 - val_loss: 0.4155 - val_acc: 0.8738\n",
            "Epoch 13/20\n",
            "15000/15000 [==============================] - 2s 111us/step - loss: 0.0347 - acc: 0.9928 - val_loss: 0.4520 - val_acc: 0.8752\n",
            "Epoch 14/20\n",
            "15000/15000 [==============================] - 2s 112us/step - loss: 0.0256 - acc: 0.9949 - val_loss: 0.4873 - val_acc: 0.8725\n",
            "Epoch 15/20\n",
            "15000/15000 [==============================] - 2s 111us/step - loss: 0.0194 - acc: 0.9969 - val_loss: 0.5323 - val_acc: 0.8637\n",
            "Epoch 16/20\n",
            "15000/15000 [==============================] - 2s 111us/step - loss: 0.0176 - acc: 0.9969 - val_loss: 0.5378 - val_acc: 0.8676\n",
            "Epoch 17/20\n",
            "15000/15000 [==============================] - 2s 112us/step - loss: 0.0116 - acc: 0.9990 - val_loss: 0.5722 - val_acc: 0.8692\n",
            "Epoch 18/20\n",
            " 5632/15000 [==========>...................] - ETA: 0s - loss: 0.0073 - acc: 0.9998"
          ],
          "name": "stdout"
        },
        {
          "output_type": "stream",
          "text": [
            "15000/15000 [==============================] - 2s 112us/step - loss: 0.0106 - acc: 0.9987 - val_loss: 0.6150 - val_acc: 0.8621\n",
            "Epoch 19/20\n",
            "15000/15000 [==============================] - 2s 113us/step - loss: 0.0079 - acc: 0.9993 - val_loss: 0.6336 - val_acc: 0.8663\n",
            "Epoch 20/20\n",
            "15000/15000 [==============================] - 2s 111us/step - loss: 0.0047 - acc: 0.9998 - val_loss: 0.6675 - val_acc: 0.8649\n"
          ],
          "name": "stdout"
        }
      ]
    },
    {
      "metadata": {
        "id": "-eosxnxobaPp",
        "colab_type": "code",
        "colab": {
          "base_uri": "https://localhost:8080/",
          "height": 34
        },
        "outputId": "46917ba3-a98b-4440-95ea-d9e89cba3ff0"
      },
      "cell_type": "code",
      "source": [
        "history_dict = history.history\n",
        "print(history_dict.keys())"
      ],
      "execution_count": 23,
      "outputs": [
        {
          "output_type": "stream",
          "text": [
            "dict_keys(['val_loss', 'val_acc', 'loss', 'acc'])\n"
          ],
          "name": "stdout"
        }
      ]
    },
    {
      "metadata": {
        "id": "FA94S75ubh_i",
        "colab_type": "text"
      },
      "cell_type": "markdown",
      "source": [
        "the model.fit() returns a history object which has 4 entries we are going to use matplot lib to visualize the training and validation loss side by side"
      ]
    },
    {
      "metadata": {
        "id": "j-Nvc2tVb2JU",
        "colab_type": "text"
      },
      "cell_type": "markdown",
      "source": [
        "# Plotting the training and validation loss"
      ]
    },
    {
      "metadata": {
        "id": "GdArnaTeb1J_",
        "colab_type": "code",
        "colab": {
          "base_uri": "https://localhost:8080/",
          "height": 376
        },
        "outputId": "d9089bd5-8ebb-4837-a839-eff184df40da"
      },
      "cell_type": "code",
      "source": [
        "import matplotlib.pyplot as plt\n",
        "\n",
        "plt.plot(history.history['acc'])\n",
        "plt.plot(history.history['val_acc'])\n",
        "plt.title('Training and Validation Accuracy')\n",
        "plt.ylabel('Loss')\n",
        "plt.xlabel('Epochs')\n",
        "plt.legend(['Training Acc', 'Validation Acc'], loc='upper left')\n",
        "plt.show()"
      ],
      "execution_count": 26,
      "outputs": [
        {
          "output_type": "display_data",
          "data": {
            "image/png": "[encoded data removed]",
            "text/plain": [
              "<matplotlib.figure.Figure at 0x7f8bc79d9240>"
            ]
          },
          "metadata": {
            "tags": []
          }
        }
      ]
    },
    {
      "metadata": {
        "id": "eXKCzNdsc2Nr",
        "colab_type": "code",
        "colab": {
          "base_uri": "https://localhost:8080/",
          "height": 376
        },
        "outputId": "09064fb0-45cc-4b24-e390-1c30c3d90f5e"
      },
      "cell_type": "code",
      "source": [
        "plt.plot(history.history['loss'])\n",
        "plt.plot(history.history['val_loss'])\n",
        "plt.title('Training and validation loss')\n",
        "plt.ylabel('Loss')\n",
        "plt.xlabel('Epochs')\n",
        "plt.legend(['Training loss', 'Validation loss'], loc='upper left')\n",
        "plt.show()"
      ],
      "execution_count": 27,
      "outputs": [
        {
          "output_type": "display_data",
          "data": {
            "image/png": "[encoded data removed]",
            "text/plain": [
              "<matplotlib.figure.Figure at 0x7f8bc7935208>"
            ]
          },
          "metadata": {
            "tags": []
          }
        }
      ]
    },
    {
      "metadata": {
        "id": "yq8zuqUteYK-",
        "colab_type": "text"
      },
      "cell_type": "markdown",
      "source": [
        "As you can see, the training loss decreases with every epoch, and the training accuracy\n",
        "increases with every epoch. \n",
        "That’s what you would expect when running gradientdescent\n",
        "optimization—the quantity you’re trying to minimize should be less with\n",
        "every iteration. But that isn’t the case for the validation loss and accuracy: they seem to\n",
        "peak at the fourth epoch. "
      ]
    },
    {
      "metadata": {
        "id": "jn_BM6xXeCX8",
        "colab_type": "code",
        "colab": {
          "base_uri": "https://localhost:8080/",
          "height": 34
        },
        "outputId": "2e9293cd-4ba5-42ae-97ec-49b7a465f27a"
      },
      "cell_type": "code",
      "source": [
        "test_loss, test_acc = model.evaluate(x_test, y_test)"
      ],
      "execution_count": 30,
      "outputs": [
        {
          "output_type": "stream",
          "text": [
            "25000/25000 [==============================] - 2s 68us/step\n"
          ],
          "name": "stdout"
        }
      ]
    },
    {
      "metadata": {
        "id": "wjE4gA0je_NC",
        "colab_type": "code",
        "colab": {
          "base_uri": "https://localhost:8080/",
          "height": 34
        },
        "outputId": "84ec9cef-a83c-4a5b-a0d2-f9ba9d4608ed"
      },
      "cell_type": "code",
      "source": [
        "print('Model Accuracy :', test_acc*100.)"
      ],
      "execution_count": 35,
      "outputs": [
        {
          "output_type": "stream",
          "text": [
            "Model Accuracy : 85.016\n"
          ],
          "name": "stdout"
        }
      ]
    },
    {
      "metadata": {
        "id": "EgFnpywJfhLU",
        "colab_type": "text"
      },
      "cell_type": "markdown",
      "source": [
        "Our model accuracy is 85.016 percent, but we will need to retrained the model for only 4 epochs"
      ]
    },
    {
      "metadata": {
        "id": "LnpQr7KlfsZ7",
        "colab_type": "text"
      },
      "cell_type": "markdown",
      "source": [
        "# Retraining a model from scratch for 4 epochs"
      ]
    },
    {
      "metadata": {
        "id": "D_iVBf6RfuEQ",
        "colab_type": "code",
        "colab": {
          "base_uri": "https://localhost:8080/",
          "height": 170
        },
        "outputId": "fb2e93c6-9705-4657-e83d-4256ac0b35c4"
      },
      "cell_type": "code",
      "source": [
        "model = models.Sequential()\n",
        "model.add(layers.Dense(16, activation='relu', input_shape=(10000,)))\n",
        "model.add(layers.Dense(16, activation='relu'))\n",
        "model.add(layers.Dense(1, activation='sigmoid'))\n",
        "\n",
        "model.compile(optimizer='rmsprop', loss='binary_crossentropy', metrics=['accuracy'])\n",
        "\n",
        "model.fit(x_train, y_train, epochs=4, batch_size=512)\n",
        "\n",
        "results = model.evaluate(x_test, y_test)"
      ],
      "execution_count": 39,
      "outputs": [
        {
          "output_type": "stream",
          "text": [
            "Epoch 1/4\n",
            "25000/25000 [==============================] - 2s 75us/step - loss: 0.4580 - acc: 0.8139\n",
            "Epoch 2/4\n",
            "25000/25000 [==============================] - 2s 76us/step - loss: 0.2634 - acc: 0.9091\n",
            "Epoch 3/4\n",
            "25000/25000 [==============================] - 2s 80us/step - loss: 0.2011 - acc: 0.9282\n",
            "Epoch 4/4\n",
            "25000/25000 [==============================] - 2s 80us/step - loss: 0.1696 - acc: 0.9381\n",
            "25000/25000 [==============================] - 2s 74us/step\n"
          ],
          "name": "stdout"
        }
      ]
    },
    {
      "metadata": {
        "id": "dDdtDYEfguNv",
        "colab_type": "code",
        "colab": {
          "base_uri": "https://localhost:8080/",
          "height": 34
        },
        "outputId": "57385e52-df2f-46d5-e5f7-0bfd413808b2"
      },
      "cell_type": "code",
      "source": [
        "print(results)"
      ],
      "execution_count": 40,
      "outputs": [
        {
          "output_type": "stream",
          "text": [
            "[0.2962084628868103, 0.88364]\n"
          ],
          "name": "stdout"
        }
      ]
    },
    {
      "metadata": {
        "id": "8Mh9_f6Xgz4E",
        "colab_type": "text"
      },
      "cell_type": "markdown",
      "source": [
        "This fairly naive approach achieves an accuracy of 88%.  With state-of-the-art\n",
        "approaches, you should be able to get close to 95%."
      ]
    },
    {
      "metadata": {
        "id": "RZxq8Ybjg5zi",
        "colab_type": "text"
      },
      "cell_type": "markdown",
      "source": [
        "# Using a trained network to generate predictions on new data\n",
        "After having trained a network, you’ll want to use it in a practical setting"
      ]
    },
    {
      "metadata": {
        "id": "wnRs1cpOhEf4",
        "colab_type": "code",
        "colab": {
          "base_uri": "https://localhost:8080/",
          "height": 136
        },
        "outputId": "6a55ef68-6143-48ce-e178-5d7e864e5501"
      },
      "cell_type": "code",
      "source": [
        "model.predict(x_test)"
      ],
      "execution_count": 41,
      "outputs": [
        {
          "output_type": "execute_result",
          "data": {
            "text/plain": [
              "array([[0.20613885],\n",
              "       [0.9995297 ],\n",
              "       [0.93887407],\n",
              "       ...,\n",
              "       [0.1339466 ],\n",
              "       [0.09360309],\n",
              "       [0.69546723]], dtype=float32)"
            ]
          },
          "metadata": {
            "tags": []
          },
          "execution_count": 41
        }
      ]
    },
    {
      "metadata": {
        "id": "DpwJQpMMhRey",
        "colab_type": "text"
      },
      "cell_type": "markdown",
      "source": [
        "As you can see, the network is confident for some samples (0.99 or more, or 0.01 or\n",
        "less) but less confident for others (0.6, 0.4)."
      ]
    }
  ]
}